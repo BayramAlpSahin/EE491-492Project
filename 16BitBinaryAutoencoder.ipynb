{
  "cells": [
    {
      "cell_type": "markdown",
      "metadata": {
        "id": "view-in-github",
        "colab_type": "text"
      },
      "source": [
        "<a href=\"https://colab.research.google.com/github/BayramAlpSahin/EE491-492Project/blob/main/16BitBinaryAutoencoder.ipynb\" target=\"_parent\"><img src=\"https://colab.research.google.com/assets/colab-badge.svg\" alt=\"Open In Colab\"/></a>"
      ]
    },
    {
      "cell_type": "code",
      "execution_count": null,
      "metadata": {
        "id": "VE1b2XiyDNHS"
      },
      "outputs": [],
      "source": [
        "import numpy as np\n",
        "import torch\n",
        "from torch import nn"
      ]
    },
    {
      "cell_type": "code",
      "execution_count": null,
      "metadata": {
        "id": "o87Dq9h21rez"
      },
      "outputs": [],
      "source": [
        "class Autoencoder(nn.Module):\n",
        "    def __init__(self):\n",
        "        super(Autoencoder, self).__init__()\n",
        "        self.encoder = nn.Sequential(\n",
        "            nn.Linear(16, 32),\n",
        "            nn.GELU(),\n",
        "            nn.Linear(32, 10),\n",
        "            nn.GELU(),\n",
        "        )\n",
        "        self.decoder = nn.Sequential(\n",
        "            nn.Linear(10, 128),\n",
        "            nn.GELU(),\n",
        "            nn.Linear(128, 64),\n",
        "            nn.GELU(),\n",
        "            nn.Linear(64, 16),\n",
        "            nn.Sigmoid(),\n",
        "        )\n",
        "    def forward(self, x):\n",
        "        x = self.encoder(x)\n",
        "        x = self.decoder(x)\n",
        "        return x\n",
        "\n",
        "model = Autoencoder().to(\"cuda\")\n",
        "print(model)"
      ]
    },
    {
      "cell_type": "code",
      "execution_count": null,
      "metadata": {
        "id": "jv_UIxai38yB"
      },
      "outputs": [],
      "source": [
        "loss_fn = nn.BCELoss()\n",
        "optimizer = torch.optim.Adam(model.parameters(), lr=0.001)"
      ]
    },
    {
      "cell_type": "code",
      "execution_count": null,
      "metadata": {
        "id": "PMBAYCz45Aqi"
      },
      "outputs": [],
      "source": [
        "batch_size = 1000000\n",
        "epochs = 100000\n",
        "def train_loop(model, loss_fn, optimizer, t):\n",
        "    model.train()\n",
        "    X = torch.randint(0, 2, (batch_size, 16))\n",
        "    X = X.float()\n",
        "    X = X.to(\"cuda\")\n",
        "    pred = model(X)\n",
        "    loss = loss_fn(pred, X)\n",
        "    loss.backward()\n",
        "    optimizer.step()\n",
        "    optimizer.zero_grad()\n",
        "    if(t % 100 == 0):\n",
        "        print(f\"Epoch {t/100+1}\\n-------------------------------\")\n",
        "        print(f\"Loss: {loss.item()}\")\n"
      ]
    },
    {
      "cell_type": "code",
      "execution_count": null,
      "metadata": {
        "id": "JI6XAAaQ5d-i"
      },
      "outputs": [],
      "source": [
        "for t in range(epochs):\n",
        "    train_loop(model, loss_fn, optimizer, t)\n",
        "print(\"Done!\")"
      ]
    },
    {
      "cell_type": "code",
      "execution_count": null,
      "metadata": {
        "id": "qnG5yDmPeVAB"
      },
      "outputs": [],
      "source": [
        "X = torch.randint(0, 2, (100000, 16))\n",
        "X = X.float()\n",
        "X = X.to(\"cuda\")\n",
        "pred = model(X)\n",
        "pred = torch.round(pred)\n",
        "num_err = [0]*16\n",
        "for i in range(100000):\n",
        "    falses = 0\n",
        "    for j in range(16):\n",
        "        if(pred[i][j] != X[i][j]):\n",
        "            falses += 1\n",
        "    num_err[falses] += 1\n",
        "for i in range(16):\n",
        "  num_err[i] /= 100000\n",
        "print(num_err)\n",
        "print(X[100])\n",
        "print(pred[100])\n"
      ]
    },
    {
      "cell_type": "code",
      "source": [
        "torch.save(model, \"model3.pth\")"
      ],
      "metadata": {
        "id": "kLl0bCW5cMLn"
      },
      "execution_count": null,
      "outputs": []
    }
  ],
  "metadata": {
    "accelerator": "TPU",
    "colab": {
      "gpuType": "V28",
      "machine_shape": "hm",
      "provenance": [],
      "authorship_tag": "ABX9TyOauoliyoTx5DrKlTtYq6NP",
      "include_colab_link": true
    },
    "kernelspec": {
      "display_name": "Python 3",
      "name": "python3"
    },
    "language_info": {
      "name": "python"
    }
  },
  "nbformat": 4,
  "nbformat_minor": 0
}
