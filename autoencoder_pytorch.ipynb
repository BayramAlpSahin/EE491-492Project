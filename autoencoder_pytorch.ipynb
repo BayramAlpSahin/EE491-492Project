{
  "nbformat": 4,
  "nbformat_minor": 0,
  "metadata": {
    "colab": {
      "provenance": [],
      "gpuType": "T4",
      "authorship_tag": "ABX9TyP5rAK7ra06S5fWgzVLrSu9",
      "include_colab_link": true
    },
    "kernelspec": {
      "name": "python3",
      "display_name": "Python 3"
    },
    "language_info": {
      "name": "python"
    },
    "accelerator": "GPU"
  },
  "cells": [
    {
      "cell_type": "markdown",
      "metadata": {
        "id": "view-in-github",
        "colab_type": "text"
      },
      "source": [
        "<a href=\"https://colab.research.google.com/github/BayramAlpSahin/EE491-492Project/blob/main/autoencoder_pytorch.ipynb\" target=\"_parent\"><img src=\"https://colab.research.google.com/assets/colab-badge.svg\" alt=\"Open In Colab\"/></a>"
      ]
    },
    {
      "cell_type": "code",
      "source": [
        "import os\n",
        "import urllib.request\n",
        "from urllib.error import HTTPError\n",
        "import matplotlib\n",
        "import matplotlib.pyplot as plt\n",
        "import matplotlib_inline.backend_inline\n",
        "import seaborn as sns\n",
        "import torch\n",
        "import torch.nn as nn\n",
        "import torch.nn.functional as F\n",
        "import torch.optim as optim\n",
        "import torch.utils.data as data\n",
        "from torchvision import transforms\n",
        "from torchvision.datasets import MNIST"
      ],
      "metadata": {
        "id": "VzX-WPxMVOXF"
      },
      "execution_count": 1,
      "outputs": []
    },
    {
      "cell_type": "code",
      "source": [
        "training_data = MNIST(\n",
        "    root=\"data\",\n",
        "    train=True,\n",
        "    download=True,\n",
        "    transform=transforms.Compose(\n",
        "        [transforms.ToTensor()]\n",
        "    ),\n",
        ")\n",
        "test_data = MNIST(\n",
        "    root=\"data\",\n",
        "    train=False,\n",
        "    download=True,\n",
        "    transform=transforms.Compose(\n",
        "        [transforms.ToTensor()]\n",
        "    ),\n",
        ")"
      ],
      "metadata": {
        "id": "bG3JaJNQvUbC"
      },
      "execution_count": null,
      "outputs": []
    },
    {
      "cell_type": "code",
      "source": [
        "train_dataloader = data.DataLoader(training_data, batch_size=64, shuffle=True)\n",
        "test_dataloader = data.DataLoader(test_data, batch_size= 64, shuffle=True)"
      ],
      "metadata": {
        "id": "jQ0xUsgowBcp"
      },
      "execution_count": 9,
      "outputs": []
    },
    {
      "cell_type": "code",
      "source": [
        "X, y = next(iter(train_dataloader))"
      ],
      "metadata": {
        "id": "5W0pBdyuglu6"
      },
      "execution_count": 10,
      "outputs": []
    },
    {
      "cell_type": "code",
      "source": [
        "class Autoencoder(nn.Module):\n",
        "  def __init__ (self):\n",
        "    super().__init__()\n",
        "    self.encoder = nn.Sequential(\n",
        "      nn.Conv2d(1, 16, 3, stride=2, padding=1),\n",
        "      nn.ReLU(),\n",
        "      nn.Conv2d(16, 32, 3, stride=2, padding=1),\n",
        "      nn.ReLU(),\n",
        "      nn.Conv2d(32, 64, 7),\n",
        "      nn.ReLU())\n",
        "    self.decoder = nn.Sequential(\n",
        "      nn.ConvTranspose2d(64, 32, 7),\n",
        "      nn.ReLU(),\n",
        "      nn.ConvTranspose2d(32, 16, 3, stride=2, padding=1, output_padding=1),\n",
        "      nn.ReLU(),\n",
        "      nn.ConvTranspose2d(16, 1, 3, stride=2, padding=1, output_padding=1),\n",
        "      nn.Tanh())\n",
        "  def forward(self, x):\n",
        "    x = self.encoder(x)\n",
        "    x = self.decoder(x)\n",
        "    return x\n",
        "\n",
        "\n",
        "model = Autoencoder()\n",
        "model.cuda()\n",
        "loss_fn = nn.MSELoss()\n",
        "optimizer = optim.Adam(model.parameters(), lr=1e-3)"
      ],
      "metadata": {
        "id": "Svnu_y0YheEJ"
      },
      "execution_count": 15,
      "outputs": []
    },
    {
      "cell_type": "code",
      "source": [
        "def train():\n",
        "  model.train()\n",
        "  for X, _ in train_dataloader:\n",
        "    X = X.cuda()\n",
        "    X_noise = X + 0.1 * torch.randn_like(X)\n",
        "    X_noise = X_noise.clamp(0, 1)\n",
        "    optimizer.zero_grad()\n",
        "    output = model(X_noise)\n",
        "    loss = loss_fn(output, X)\n",
        "    loss.backward()\n",
        "    optimizer.step()\n",
        "    print(f\"Loss: {loss.item()}\")\n",
        "\n",
        "def test():\n",
        "  model.eval()\n",
        "  test_loss = 0\n",
        "  with torch.no_grad():\n",
        "    for X, _ in test_dataloader:\n",
        "      X = X.cuda()\n",
        "      X_noise = X + 0.1 * torch.randn_like(X)\n",
        "      X_noise = X_noise.clamp(0, 1)\n",
        "      output = model(X_noise)\n",
        "      test_loss += loss_fn(output, X).item()\n",
        "      test_loss /= len(test_dataloader)\n",
        "  print(f\"Test loss: {test_loss}\")\n",
        "\n",
        "epochs = 10\n",
        "for epoch in range(epochs):\n",
        "  train()\n",
        "  test()"
      ],
      "metadata": {
        "id": "_Mz67bXzjEQ8"
      },
      "execution_count": null,
      "outputs": []
    },
    {
      "cell_type": "code",
      "source": [
        "X, _ = next(iter(test_dataloader))\n",
        "X = X.cuda()\n",
        "X_noise = X + 0.1 * torch.randn_like(X)\n",
        "X_noise = X_noise.clamp(0, 1)\n",
        "output = model(X_noise)\n",
        "\n",
        "plt.imshow(X_noise[7].cpu().detach().numpy().reshape(28, 28), cmap=\"gray\")\n",
        "plt.show()\n",
        "plt.imshow(output[7].cpu().detach().numpy().reshape(28, 28), cmap=\"gray\")\n",
        "plt.show()"
      ],
      "metadata": {
        "id": "j9kRk6nHkWv-"
      },
      "execution_count": null,
      "outputs": []
    }
  ]
}